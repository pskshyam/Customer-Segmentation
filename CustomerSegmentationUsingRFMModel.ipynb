{
  "nbformat": 4,
  "nbformat_minor": 0,
  "metadata": {
    "colab": {
      "name": "CustomerSegmentationUsingRFMModel.ipynb",
      "version": "0.3.2",
      "provenance": [],
      "include_colab_link": true
    },
    "kernelspec": {
      "name": "python3",
      "display_name": "Python 3"
    }
  },
  "cells": [
    {
      "cell_type": "markdown",
      "metadata": {
        "id": "view-in-github",
        "colab_type": "text"
      },
      "source": [
        "<a href=\"https://colab.research.google.com/github/pskshyam/Customer-Segmentation/blob/master/CustomerSegmentationUsingRFMModel.ipynb\" target=\"_parent\"><img src=\"https://colab.research.google.com/assets/colab-badge.svg\" alt=\"Open In Colab\"/></a>"
      ]
    },
    {
      "metadata": {
        "id": "fkGxheNbPdwk",
        "colab_type": "text"
      },
      "cell_type": "markdown",
      "source": [
        "**Why should you care about customer segmentation? **\n",
        "\n",
        "To deliver personalized experiences to customers, segmentation is key. It can provide insights into your customers behavior, habits, and preferences, allowing you to offer tailored marketing campaigns increasing your odds of success as well as improving your customers experience with tailored content."
      ]
    },
    {
      "metadata": {
        "id": "_br1I6o7PmUR",
        "colab_type": "text"
      },
      "cell_type": "markdown",
      "source": [
        "**What are we going to build? **\n",
        "\n",
        "Using transactional purchasing data, we will be able to create a 2 x 2 value matrix to create 4 customers groups. Each group will defer from the other depending on 2 dimensions: \n",
        "\n",
        "(1) current customer value, and\n",
        "\n",
        "(2) potential customer value."
      ]
    },
    {
      "metadata": {
        "id": "LmF-XLOrPuoE",
        "colab_type": "text"
      },
      "cell_type": "markdown",
      "source": [
        "**What technique are we going to use? **\n",
        "\n",
        "We are going to use the RFM model to create the required features from transactional purchasing data. The RFM model stands for:\n",
        "\n",
        "Recency: When was the last time they purchased?<br>\n",
        "Frequency: How often and for how long have they purchased?<br>\n",
        "Monetary Value/Sales: How much have they purchased?<br>\n",
        "\n",
        "It’s usually used to identify the Highest Value Customer at the intersection of each 3 questions. To build the 2 x 2 matrix we will only use the R & the M from RFM."
      ]
    },
    {
      "metadata": {
        "id": "V5_iQ_jdP4Ky",
        "colab_type": "text"
      },
      "cell_type": "markdown",
      "source": [
        "![alt text](https://cdn-images-1.medium.com/max/800/1*7JfiT-GBi4R501svnVrQFA.png)"
      ]
    },
    {
      "metadata": {
        "id": "3aQ-90wAP5C1",
        "colab_type": "text"
      },
      "cell_type": "markdown",
      "source": [
        "**What data are we using?** \n",
        "\n",
        "We are going to use the purchased sample data set provided by Tableau also known as “Global Superstore”. It is often used for forecasting and time series analysis. It contains more than 1500 different customers and 4 years of purchase data. Since we are doing a behavioral segmentation and not a demographic segmentation, we will remove some potential demographic bias by filtering only on the B2C segment (consumer) and the USA country."
      ]
    },
    {
      "metadata": {
        "id": "6vJNYF9WFfhH",
        "colab_type": "code",
        "colab": {}
      },
      "cell_type": "code",
      "source": [
        "#Install necessary libraries\n",
        "import matplotlib as plt\n",
        "import numpy as np\n",
        "%matplotlib inline  \n",
        "import warnings\n",
        "warnings.filterwarnings('ignore')\n",
        "import pandas as pd"
      ],
      "execution_count": 0,
      "outputs": []
    },
    {
      "metadata": {
        "id": "gX5tje2rFzJ6",
        "colab_type": "code",
        "colab": {
          "base_uri": "https://localhost:8080/",
          "height": 122
        },
        "outputId": "780dc442-0fbb-4ef1-b7e0-5ddd7eaa7d31"
      },
      "cell_type": "code",
      "source": [
        "#Install xlrd package for reading excel files\n",
        "!pip install xlrd"
      ],
      "execution_count": 3,
      "outputs": [
        {
          "output_type": "stream",
          "text": [
            "Collecting xlrd\n",
            "\u001b[?25l  Downloading https://files.pythonhosted.org/packages/07/e6/e95c4eec6221bfd8528bcc4ea252a850bffcc4be88ebc367e23a1a84b0bb/xlrd-1.1.0-py2.py3-none-any.whl (108kB)\n",
            "\u001b[K    100% |████████████████████████████████| 112kB 2.7MB/s \n",
            "\u001b[?25hInstalling collected packages: xlrd\n",
            "Successfully installed xlrd-1.1.0\n"
          ],
          "name": "stdout"
        }
      ]
    },
    {
      "metadata": {
        "id": "Amv41yT3FoRr",
        "colab_type": "code",
        "colab": {
          "base_uri": "https://localhost:8080/",
          "height": 593
        },
        "outputId": "10ebe09c-03d7-4354-d227-1521e975487d"
      },
      "cell_type": "code",
      "source": [
        "#Load the dataset\n",
        "url = 'https://github.com/tristanga/Data-Analysis/raw/master/Global%20Superstore.xls'\n",
        "df = pd.read_excel(url)\n",
        "df.head()"
      ],
      "execution_count": 4,
      "outputs": [
        {
          "output_type": "execute_result",
          "data": {
            "text/html": [
              "<div>\n",
              "<style scoped>\n",
              "    .dataframe tbody tr th:only-of-type {\n",
              "        vertical-align: middle;\n",
              "    }\n",
              "\n",
              "    .dataframe tbody tr th {\n",
              "        vertical-align: top;\n",
              "    }\n",
              "\n",
              "    .dataframe thead th {\n",
              "        text-align: right;\n",
              "    }\n",
              "</style>\n",
              "<table border=\"1\" class=\"dataframe\">\n",
              "  <thead>\n",
              "    <tr style=\"text-align: right;\">\n",
              "      <th></th>\n",
              "      <th>Row ID</th>\n",
              "      <th>Order ID</th>\n",
              "      <th>Order Date</th>\n",
              "      <th>Ship Date</th>\n",
              "      <th>Ship Mode</th>\n",
              "      <th>Customer ID</th>\n",
              "      <th>Customer Name</th>\n",
              "      <th>Segment</th>\n",
              "      <th>City</th>\n",
              "      <th>State</th>\n",
              "      <th>...</th>\n",
              "      <th>Product ID</th>\n",
              "      <th>Category</th>\n",
              "      <th>Sub-Category</th>\n",
              "      <th>Product Name</th>\n",
              "      <th>Sales</th>\n",
              "      <th>Quantity</th>\n",
              "      <th>Discount</th>\n",
              "      <th>Profit</th>\n",
              "      <th>Shipping Cost</th>\n",
              "      <th>Order Priority</th>\n",
              "    </tr>\n",
              "  </thead>\n",
              "  <tbody>\n",
              "    <tr>\n",
              "      <th>0</th>\n",
              "      <td>32298</td>\n",
              "      <td>CA-2012-124891</td>\n",
              "      <td>2012-07-31</td>\n",
              "      <td>2012-07-31</td>\n",
              "      <td>Same Day</td>\n",
              "      <td>RH-19495</td>\n",
              "      <td>Rick Hansen</td>\n",
              "      <td>Consumer</td>\n",
              "      <td>New York City</td>\n",
              "      <td>New York</td>\n",
              "      <td>...</td>\n",
              "      <td>TEC-AC-10003033</td>\n",
              "      <td>Technology</td>\n",
              "      <td>Accessories</td>\n",
              "      <td>Plantronics CS510 - Over-the-Head monaural Wir...</td>\n",
              "      <td>2309.650</td>\n",
              "      <td>7</td>\n",
              "      <td>0.0</td>\n",
              "      <td>762.1845</td>\n",
              "      <td>933.57</td>\n",
              "      <td>Critical</td>\n",
              "    </tr>\n",
              "    <tr>\n",
              "      <th>1</th>\n",
              "      <td>26341</td>\n",
              "      <td>IN-2013-77878</td>\n",
              "      <td>2013-02-05</td>\n",
              "      <td>2013-02-07</td>\n",
              "      <td>Second Class</td>\n",
              "      <td>JR-16210</td>\n",
              "      <td>Justin Ritter</td>\n",
              "      <td>Corporate</td>\n",
              "      <td>Wollongong</td>\n",
              "      <td>New South Wales</td>\n",
              "      <td>...</td>\n",
              "      <td>FUR-CH-10003950</td>\n",
              "      <td>Furniture</td>\n",
              "      <td>Chairs</td>\n",
              "      <td>Novimex Executive Leather Armchair, Black</td>\n",
              "      <td>3709.395</td>\n",
              "      <td>9</td>\n",
              "      <td>0.1</td>\n",
              "      <td>-288.7650</td>\n",
              "      <td>923.63</td>\n",
              "      <td>Critical</td>\n",
              "    </tr>\n",
              "    <tr>\n",
              "      <th>2</th>\n",
              "      <td>25330</td>\n",
              "      <td>IN-2013-71249</td>\n",
              "      <td>2013-10-17</td>\n",
              "      <td>2013-10-18</td>\n",
              "      <td>First Class</td>\n",
              "      <td>CR-12730</td>\n",
              "      <td>Craig Reiter</td>\n",
              "      <td>Consumer</td>\n",
              "      <td>Brisbane</td>\n",
              "      <td>Queensland</td>\n",
              "      <td>...</td>\n",
              "      <td>TEC-PH-10004664</td>\n",
              "      <td>Technology</td>\n",
              "      <td>Phones</td>\n",
              "      <td>Nokia Smart Phone, with Caller ID</td>\n",
              "      <td>5175.171</td>\n",
              "      <td>9</td>\n",
              "      <td>0.1</td>\n",
              "      <td>919.9710</td>\n",
              "      <td>915.49</td>\n",
              "      <td>Medium</td>\n",
              "    </tr>\n",
              "    <tr>\n",
              "      <th>3</th>\n",
              "      <td>13524</td>\n",
              "      <td>ES-2013-1579342</td>\n",
              "      <td>2013-01-28</td>\n",
              "      <td>2013-01-30</td>\n",
              "      <td>First Class</td>\n",
              "      <td>KM-16375</td>\n",
              "      <td>Katherine Murray</td>\n",
              "      <td>Home Office</td>\n",
              "      <td>Berlin</td>\n",
              "      <td>Berlin</td>\n",
              "      <td>...</td>\n",
              "      <td>TEC-PH-10004583</td>\n",
              "      <td>Technology</td>\n",
              "      <td>Phones</td>\n",
              "      <td>Motorola Smart Phone, Cordless</td>\n",
              "      <td>2892.510</td>\n",
              "      <td>5</td>\n",
              "      <td>0.1</td>\n",
              "      <td>-96.5400</td>\n",
              "      <td>910.16</td>\n",
              "      <td>Medium</td>\n",
              "    </tr>\n",
              "    <tr>\n",
              "      <th>4</th>\n",
              "      <td>47221</td>\n",
              "      <td>SG-2013-4320</td>\n",
              "      <td>2013-11-05</td>\n",
              "      <td>2013-11-06</td>\n",
              "      <td>Same Day</td>\n",
              "      <td>RH-9495</td>\n",
              "      <td>Rick Hansen</td>\n",
              "      <td>Consumer</td>\n",
              "      <td>Dakar</td>\n",
              "      <td>Dakar</td>\n",
              "      <td>...</td>\n",
              "      <td>TEC-SHA-10000501</td>\n",
              "      <td>Technology</td>\n",
              "      <td>Copiers</td>\n",
              "      <td>Sharp Wireless Fax, High-Speed</td>\n",
              "      <td>2832.960</td>\n",
              "      <td>8</td>\n",
              "      <td>0.0</td>\n",
              "      <td>311.5200</td>\n",
              "      <td>903.04</td>\n",
              "      <td>Critical</td>\n",
              "    </tr>\n",
              "  </tbody>\n",
              "</table>\n",
              "<p>5 rows × 24 columns</p>\n",
              "</div>"
            ],
            "text/plain": [
              "   Row ID         Order ID Order Date  Ship Date     Ship Mode Customer ID  \\\n",
              "0   32298   CA-2012-124891 2012-07-31 2012-07-31      Same Day    RH-19495   \n",
              "1   26341    IN-2013-77878 2013-02-05 2013-02-07  Second Class    JR-16210   \n",
              "2   25330    IN-2013-71249 2013-10-17 2013-10-18   First Class    CR-12730   \n",
              "3   13524  ES-2013-1579342 2013-01-28 2013-01-30   First Class    KM-16375   \n",
              "4   47221     SG-2013-4320 2013-11-05 2013-11-06      Same Day     RH-9495   \n",
              "\n",
              "      Customer Name      Segment           City            State  \\\n",
              "0       Rick Hansen     Consumer  New York City         New York   \n",
              "1     Justin Ritter    Corporate     Wollongong  New South Wales   \n",
              "2      Craig Reiter     Consumer       Brisbane       Queensland   \n",
              "3  Katherine Murray  Home Office         Berlin           Berlin   \n",
              "4       Rick Hansen     Consumer          Dakar            Dakar   \n",
              "\n",
              "        ...              Product ID    Category Sub-Category  \\\n",
              "0       ...         TEC-AC-10003033  Technology  Accessories   \n",
              "1       ...         FUR-CH-10003950   Furniture       Chairs   \n",
              "2       ...         TEC-PH-10004664  Technology       Phones   \n",
              "3       ...         TEC-PH-10004583  Technology       Phones   \n",
              "4       ...        TEC-SHA-10000501  Technology      Copiers   \n",
              "\n",
              "                                        Product Name     Sales Quantity  \\\n",
              "0  Plantronics CS510 - Over-the-Head monaural Wir...  2309.650        7   \n",
              "1          Novimex Executive Leather Armchair, Black  3709.395        9   \n",
              "2                  Nokia Smart Phone, with Caller ID  5175.171        9   \n",
              "3                     Motorola Smart Phone, Cordless  2892.510        5   \n",
              "4                     Sharp Wireless Fax, High-Speed  2832.960        8   \n",
              "\n",
              "  Discount    Profit  Shipping Cost  Order Priority  \n",
              "0      0.0  762.1845         933.57        Critical  \n",
              "1      0.1 -288.7650         923.63        Critical  \n",
              "2      0.1  919.9710         915.49          Medium  \n",
              "3      0.1  -96.5400         910.16          Medium  \n",
              "4      0.0  311.5200         903.04        Critical  \n",
              "\n",
              "[5 rows x 24 columns]"
            ]
          },
          "metadata": {
            "tags": []
          },
          "execution_count": 4
        }
      ]
    },
    {
      "metadata": {
        "id": "A-fvdOQ9Fuoq",
        "colab_type": "code",
        "colab": {
          "base_uri": "https://localhost:8080/",
          "height": 559
        },
        "outputId": "f06723ad-7d59-446e-ec86-011611520f20"
      },
      "cell_type": "code",
      "source": [
        "#Filter the dataset for Consumer segment and USA country\n",
        "df = df[(df.Segment == 'Consumer') & (df.Country == 'United States')]\n",
        "df.head()"
      ],
      "execution_count": 5,
      "outputs": [
        {
          "output_type": "execute_result",
          "data": {
            "text/html": [
              "<div>\n",
              "<style scoped>\n",
              "    .dataframe tbody tr th:only-of-type {\n",
              "        vertical-align: middle;\n",
              "    }\n",
              "\n",
              "    .dataframe tbody tr th {\n",
              "        vertical-align: top;\n",
              "    }\n",
              "\n",
              "    .dataframe thead th {\n",
              "        text-align: right;\n",
              "    }\n",
              "</style>\n",
              "<table border=\"1\" class=\"dataframe\">\n",
              "  <thead>\n",
              "    <tr style=\"text-align: right;\">\n",
              "      <th></th>\n",
              "      <th>Row ID</th>\n",
              "      <th>Order ID</th>\n",
              "      <th>Order Date</th>\n",
              "      <th>Ship Date</th>\n",
              "      <th>Ship Mode</th>\n",
              "      <th>Customer ID</th>\n",
              "      <th>Customer Name</th>\n",
              "      <th>Segment</th>\n",
              "      <th>City</th>\n",
              "      <th>State</th>\n",
              "      <th>...</th>\n",
              "      <th>Product ID</th>\n",
              "      <th>Category</th>\n",
              "      <th>Sub-Category</th>\n",
              "      <th>Product Name</th>\n",
              "      <th>Sales</th>\n",
              "      <th>Quantity</th>\n",
              "      <th>Discount</th>\n",
              "      <th>Profit</th>\n",
              "      <th>Shipping Cost</th>\n",
              "      <th>Order Priority</th>\n",
              "    </tr>\n",
              "  </thead>\n",
              "  <tbody>\n",
              "    <tr>\n",
              "      <th>0</th>\n",
              "      <td>32298</td>\n",
              "      <td>CA-2012-124891</td>\n",
              "      <td>2012-07-31</td>\n",
              "      <td>2012-07-31</td>\n",
              "      <td>Same Day</td>\n",
              "      <td>RH-19495</td>\n",
              "      <td>Rick Hansen</td>\n",
              "      <td>Consumer</td>\n",
              "      <td>New York City</td>\n",
              "      <td>New York</td>\n",
              "      <td>...</td>\n",
              "      <td>TEC-AC-10003033</td>\n",
              "      <td>Technology</td>\n",
              "      <td>Accessories</td>\n",
              "      <td>Plantronics CS510 - Over-the-Head monaural Wir...</td>\n",
              "      <td>2309.650</td>\n",
              "      <td>7</td>\n",
              "      <td>0.0</td>\n",
              "      <td>762.1845</td>\n",
              "      <td>933.57</td>\n",
              "      <td>Critical</td>\n",
              "    </tr>\n",
              "    <tr>\n",
              "      <th>9</th>\n",
              "      <td>40936</td>\n",
              "      <td>CA-2012-116638</td>\n",
              "      <td>2012-01-28</td>\n",
              "      <td>2012-01-31</td>\n",
              "      <td>Second Class</td>\n",
              "      <td>JH-15985</td>\n",
              "      <td>Joseph Holt</td>\n",
              "      <td>Consumer</td>\n",
              "      <td>Concord</td>\n",
              "      <td>North Carolina</td>\n",
              "      <td>...</td>\n",
              "      <td>FUR-TA-10000198</td>\n",
              "      <td>Furniture</td>\n",
              "      <td>Tables</td>\n",
              "      <td>Chromcraft Bull-Nose Wood Oval Conference Tabl...</td>\n",
              "      <td>4297.644</td>\n",
              "      <td>13</td>\n",
              "      <td>0.4</td>\n",
              "      <td>-1862.3124</td>\n",
              "      <td>865.74</td>\n",
              "      <td>Critical</td>\n",
              "    </tr>\n",
              "    <tr>\n",
              "      <th>21</th>\n",
              "      <td>31784</td>\n",
              "      <td>CA-2011-154627</td>\n",
              "      <td>2011-10-29</td>\n",
              "      <td>2011-10-31</td>\n",
              "      <td>First Class</td>\n",
              "      <td>SA-20830</td>\n",
              "      <td>Sue Ann Reed</td>\n",
              "      <td>Consumer</td>\n",
              "      <td>Chicago</td>\n",
              "      <td>Illinois</td>\n",
              "      <td>...</td>\n",
              "      <td>TEC-PH-10001363</td>\n",
              "      <td>Technology</td>\n",
              "      <td>Phones</td>\n",
              "      <td>Apple iPhone 5S</td>\n",
              "      <td>2735.952</td>\n",
              "      <td>6</td>\n",
              "      <td>0.2</td>\n",
              "      <td>341.9940</td>\n",
              "      <td>752.51</td>\n",
              "      <td>High</td>\n",
              "    </tr>\n",
              "    <tr>\n",
              "      <th>32</th>\n",
              "      <td>32735</td>\n",
              "      <td>CA-2012-139731</td>\n",
              "      <td>2012-10-15</td>\n",
              "      <td>2012-10-15</td>\n",
              "      <td>Same Day</td>\n",
              "      <td>JE-15745</td>\n",
              "      <td>Joel Eaton</td>\n",
              "      <td>Consumer</td>\n",
              "      <td>Amarillo</td>\n",
              "      <td>Texas</td>\n",
              "      <td>...</td>\n",
              "      <td>FUR-CH-10002024</td>\n",
              "      <td>Furniture</td>\n",
              "      <td>Chairs</td>\n",
              "      <td>HON 5400 Series Task Chairs for Big and Tall</td>\n",
              "      <td>2453.430</td>\n",
              "      <td>5</td>\n",
              "      <td>0.3</td>\n",
              "      <td>-350.4900</td>\n",
              "      <td>690.42</td>\n",
              "      <td>High</td>\n",
              "    </tr>\n",
              "    <tr>\n",
              "      <th>34</th>\n",
              "      <td>32543</td>\n",
              "      <td>CA-2011-168494</td>\n",
              "      <td>2011-12-12</td>\n",
              "      <td>2011-12-14</td>\n",
              "      <td>Second Class</td>\n",
              "      <td>NP-18700</td>\n",
              "      <td>Nora Preis</td>\n",
              "      <td>Consumer</td>\n",
              "      <td>Fresno</td>\n",
              "      <td>California</td>\n",
              "      <td>...</td>\n",
              "      <td>FUR-TA-10003473</td>\n",
              "      <td>Furniture</td>\n",
              "      <td>Tables</td>\n",
              "      <td>Bretford Rectangular Conference Table Tops</td>\n",
              "      <td>3610.848</td>\n",
              "      <td>12</td>\n",
              "      <td>0.2</td>\n",
              "      <td>135.4068</td>\n",
              "      <td>683.12</td>\n",
              "      <td>High</td>\n",
              "    </tr>\n",
              "  </tbody>\n",
              "</table>\n",
              "<p>5 rows × 24 columns</p>\n",
              "</div>"
            ],
            "text/plain": [
              "    Row ID        Order ID Order Date  Ship Date     Ship Mode Customer ID  \\\n",
              "0    32298  CA-2012-124891 2012-07-31 2012-07-31      Same Day    RH-19495   \n",
              "9    40936  CA-2012-116638 2012-01-28 2012-01-31  Second Class    JH-15985   \n",
              "21   31784  CA-2011-154627 2011-10-29 2011-10-31   First Class    SA-20830   \n",
              "32   32735  CA-2012-139731 2012-10-15 2012-10-15      Same Day    JE-15745   \n",
              "34   32543  CA-2011-168494 2011-12-12 2011-12-14  Second Class    NP-18700   \n",
              "\n",
              "   Customer Name   Segment           City           State       ...        \\\n",
              "0    Rick Hansen  Consumer  New York City        New York       ...         \n",
              "9    Joseph Holt  Consumer        Concord  North Carolina       ...         \n",
              "21  Sue Ann Reed  Consumer        Chicago        Illinois       ...         \n",
              "32    Joel Eaton  Consumer       Amarillo           Texas       ...         \n",
              "34    Nora Preis  Consumer         Fresno      California       ...         \n",
              "\n",
              "         Product ID    Category Sub-Category  \\\n",
              "0   TEC-AC-10003033  Technology  Accessories   \n",
              "9   FUR-TA-10000198   Furniture       Tables   \n",
              "21  TEC-PH-10001363  Technology       Phones   \n",
              "32  FUR-CH-10002024   Furniture       Chairs   \n",
              "34  FUR-TA-10003473   Furniture       Tables   \n",
              "\n",
              "                                         Product Name     Sales Quantity  \\\n",
              "0   Plantronics CS510 - Over-the-Head monaural Wir...  2309.650        7   \n",
              "9   Chromcraft Bull-Nose Wood Oval Conference Tabl...  4297.644       13   \n",
              "21                                    Apple iPhone 5S  2735.952        6   \n",
              "32       HON 5400 Series Task Chairs for Big and Tall  2453.430        5   \n",
              "34         Bretford Rectangular Conference Table Tops  3610.848       12   \n",
              "\n",
              "   Discount     Profit  Shipping Cost  Order Priority  \n",
              "0       0.0   762.1845         933.57        Critical  \n",
              "9       0.4 -1862.3124         865.74        Critical  \n",
              "21      0.2   341.9940         752.51            High  \n",
              "32      0.3  -350.4900         690.42            High  \n",
              "34      0.2   135.4068         683.12            High  \n",
              "\n",
              "[5 rows x 24 columns]"
            ]
          },
          "metadata": {
            "tags": []
          },
          "execution_count": 5
        }
      ]
    },
    {
      "metadata": {
        "id": "pJt2n3gxPSX2",
        "colab_type": "text"
      },
      "cell_type": "markdown",
      "source": [
        "**What approach are we taking?**\n",
        "\n",
        "Step 0: Load, filter, clean, and aggregate the data at the customer level,\n",
        "\n",
        "Step 1: Create RFM Features for each customers,\n",
        "\n",
        "Step 2: To automate the segmentation we will use the 80% quantile for Recency and Monetary (we could have also used k-mean clustering or leveraged business knowledge to create buckets — for example global superstore business users consider an active customer as someone whose last order is less than 100 days old),\n",
        "\n",
        "Step 3: Calculate RM score and sort customers,\n",
        "\n",
        "Step 4: Visualize the Value Matrix and explore some key numbers."
      ]
    },
    {
      "metadata": {
        "id": "c3cj9XaDGadP",
        "colab_type": "text"
      },
      "cell_type": "markdown",
      "source": [
        "**Step 1: Create RFM Features for each customer**"
      ]
    },
    {
      "metadata": {
        "id": "7cwRTY6SGXHQ",
        "colab_type": "code",
        "colab": {
          "base_uri": "https://localhost:8080/",
          "height": 235
        },
        "outputId": "f6c284f8-1e09-4c51-e8b5-977e2e6d720d"
      },
      "cell_type": "code",
      "source": [
        "df_RFM = df.groupby('Customer ID').agg({'Order Date': lambda y: (df['Order Date'].max().date() - y.max().date()).days,\n",
        "                                        'Order ID': lambda y: len(y.unique()),  \n",
        "                                        'Sales': lambda y: round(y.sum(),2)})\n",
        "df_RFM.columns = ['Recency', 'Frequency', 'Monetary']\n",
        "df_RFM = df_RFM.sort_values('Monetary', ascending=False)\n",
        "df_RFM.head()"
      ],
      "execution_count": 6,
      "outputs": [
        {
          "output_type": "execute_result",
          "data": {
            "text/html": [
              "<div>\n",
              "<style scoped>\n",
              "    .dataframe tbody tr th:only-of-type {\n",
              "        vertical-align: middle;\n",
              "    }\n",
              "\n",
              "    .dataframe tbody tr th {\n",
              "        vertical-align: top;\n",
              "    }\n",
              "\n",
              "    .dataframe thead th {\n",
              "        text-align: right;\n",
              "    }\n",
              "</style>\n",
              "<table border=\"1\" class=\"dataframe\">\n",
              "  <thead>\n",
              "    <tr style=\"text-align: right;\">\n",
              "      <th></th>\n",
              "      <th>Recency</th>\n",
              "      <th>Frequency</th>\n",
              "      <th>Monetary</th>\n",
              "    </tr>\n",
              "    <tr>\n",
              "      <th>Customer ID</th>\n",
              "      <th></th>\n",
              "      <th></th>\n",
              "      <th></th>\n",
              "    </tr>\n",
              "  </thead>\n",
              "  <tbody>\n",
              "    <tr>\n",
              "      <th>RB-19360</th>\n",
              "      <td>96</td>\n",
              "      <td>6</td>\n",
              "      <td>15117.34</td>\n",
              "    </tr>\n",
              "    <tr>\n",
              "      <th>AB-10105</th>\n",
              "      <td>41</td>\n",
              "      <td>10</td>\n",
              "      <td>14473.57</td>\n",
              "    </tr>\n",
              "    <tr>\n",
              "      <th>KL-16645</th>\n",
              "      <td>47</td>\n",
              "      <td>12</td>\n",
              "      <td>14175.23</td>\n",
              "    </tr>\n",
              "    <tr>\n",
              "      <th>SC-20095</th>\n",
              "      <td>349</td>\n",
              "      <td>9</td>\n",
              "      <td>14142.33</td>\n",
              "    </tr>\n",
              "    <tr>\n",
              "      <th>HL-15040</th>\n",
              "      <td>43</td>\n",
              "      <td>6</td>\n",
              "      <td>12873.30</td>\n",
              "    </tr>\n",
              "  </tbody>\n",
              "</table>\n",
              "</div>"
            ],
            "text/plain": [
              "             Recency  Frequency  Monetary\n",
              "Customer ID                              \n",
              "RB-19360          96          6  15117.34\n",
              "AB-10105          41         10  14473.57\n",
              "KL-16645          47         12  14175.23\n",
              "SC-20095         349          9  14142.33\n",
              "HL-15040          43          6  12873.30"
            ]
          },
          "metadata": {
            "tags": []
          },
          "execution_count": 6
        }
      ]
    },
    {
      "metadata": {
        "id": "H7nsKnYyHKH7",
        "colab_type": "text"
      },
      "cell_type": "markdown",
      "source": [
        "**Step 2: To automate the segmentation we will use 80% quantile for Recency and Monetary**"
      ]
    },
    {
      "metadata": {
        "id": "w_sZamfFHG3j",
        "colab_type": "code",
        "colab": {
          "base_uri": "https://localhost:8080/",
          "height": 51
        },
        "outputId": "2d37ab39-3d39-4939-be99-9099ff3962aa"
      },
      "cell_type": "code",
      "source": [
        "# We will use the 80% quantile for each feature\n",
        "quantiles = df_RFM.quantile(q=[0.8])\n",
        "print(quantiles)"
      ],
      "execution_count": 7,
      "outputs": [
        {
          "output_type": "stream",
          "text": [
            "     Recency  Frequency  Monetary\n",
            "0.8    222.2        8.0   4070.17\n"
          ],
          "name": "stdout"
        }
      ]
    },
    {
      "metadata": {
        "id": "eXfDSq6rHqr-",
        "colab_type": "code",
        "colab": {
          "base_uri": "https://localhost:8080/",
          "height": 235
        },
        "outputId": "3bf06ac7-890a-4332-c8f3-1028e4a895a6"
      },
      "cell_type": "code",
      "source": [
        "df_RFM['R']=np.where(df_RFM['Recency']<=int(quantiles.Recency.values), 2, 1)\n",
        "df_RFM['F']=np.where(df_RFM['Frequency']>=int(quantiles.Frequency.values), 2, 1)\n",
        "df_RFM['M']=np.where(df_RFM['Monetary']>=int(quantiles.Monetary.values), 2, 1)\n",
        "df_RFM.head()"
      ],
      "execution_count": 8,
      "outputs": [
        {
          "output_type": "execute_result",
          "data": {
            "text/html": [
              "<div>\n",
              "<style scoped>\n",
              "    .dataframe tbody tr th:only-of-type {\n",
              "        vertical-align: middle;\n",
              "    }\n",
              "\n",
              "    .dataframe tbody tr th {\n",
              "        vertical-align: top;\n",
              "    }\n",
              "\n",
              "    .dataframe thead th {\n",
              "        text-align: right;\n",
              "    }\n",
              "</style>\n",
              "<table border=\"1\" class=\"dataframe\">\n",
              "  <thead>\n",
              "    <tr style=\"text-align: right;\">\n",
              "      <th></th>\n",
              "      <th>Recency</th>\n",
              "      <th>Frequency</th>\n",
              "      <th>Monetary</th>\n",
              "      <th>R</th>\n",
              "      <th>F</th>\n",
              "      <th>M</th>\n",
              "    </tr>\n",
              "    <tr>\n",
              "      <th>Customer ID</th>\n",
              "      <th></th>\n",
              "      <th></th>\n",
              "      <th></th>\n",
              "      <th></th>\n",
              "      <th></th>\n",
              "      <th></th>\n",
              "    </tr>\n",
              "  </thead>\n",
              "  <tbody>\n",
              "    <tr>\n",
              "      <th>RB-19360</th>\n",
              "      <td>96</td>\n",
              "      <td>6</td>\n",
              "      <td>15117.34</td>\n",
              "      <td>2</td>\n",
              "      <td>1</td>\n",
              "      <td>2</td>\n",
              "    </tr>\n",
              "    <tr>\n",
              "      <th>AB-10105</th>\n",
              "      <td>41</td>\n",
              "      <td>10</td>\n",
              "      <td>14473.57</td>\n",
              "      <td>2</td>\n",
              "      <td>2</td>\n",
              "      <td>2</td>\n",
              "    </tr>\n",
              "    <tr>\n",
              "      <th>KL-16645</th>\n",
              "      <td>47</td>\n",
              "      <td>12</td>\n",
              "      <td>14175.23</td>\n",
              "      <td>2</td>\n",
              "      <td>2</td>\n",
              "      <td>2</td>\n",
              "    </tr>\n",
              "    <tr>\n",
              "      <th>SC-20095</th>\n",
              "      <td>349</td>\n",
              "      <td>9</td>\n",
              "      <td>14142.33</td>\n",
              "      <td>1</td>\n",
              "      <td>2</td>\n",
              "      <td>2</td>\n",
              "    </tr>\n",
              "    <tr>\n",
              "      <th>HL-15040</th>\n",
              "      <td>43</td>\n",
              "      <td>6</td>\n",
              "      <td>12873.30</td>\n",
              "      <td>2</td>\n",
              "      <td>1</td>\n",
              "      <td>2</td>\n",
              "    </tr>\n",
              "  </tbody>\n",
              "</table>\n",
              "</div>"
            ],
            "text/plain": [
              "             Recency  Frequency  Monetary  R  F  M\n",
              "Customer ID                                       \n",
              "RB-19360          96          6  15117.34  2  1  2\n",
              "AB-10105          41         10  14473.57  2  2  2\n",
              "KL-16645          47         12  14175.23  2  2  2\n",
              "SC-20095         349          9  14142.33  1  2  2\n",
              "HL-15040          43          6  12873.30  2  1  2"
            ]
          },
          "metadata": {
            "tags": []
          },
          "execution_count": 8
        }
      ]
    },
    {
      "metadata": {
        "id": "z5CEIqWOIR6o",
        "colab_type": "text"
      },
      "cell_type": "markdown",
      "source": [
        "**Step 3: Calculate RFM score and sort customers**"
      ]
    },
    {
      "metadata": {
        "id": "eTFQE97NIS4X",
        "colab_type": "code",
        "colab": {
          "base_uri": "https://localhost:8080/",
          "height": 235
        },
        "outputId": "15362448-f19a-4e1b-df40-32a36a935c02"
      },
      "cell_type": "code",
      "source": [
        "# To do the 2 x 2 matrix we will only use Recency & Monetary\n",
        "df_RFM['RMScore'] = df_RFM.M.map(str)+df_RFM.R.map(str)\n",
        "df_RFM.head()"
      ],
      "execution_count": 9,
      "outputs": [
        {
          "output_type": "execute_result",
          "data": {
            "text/html": [
              "<div>\n",
              "<style scoped>\n",
              "    .dataframe tbody tr th:only-of-type {\n",
              "        vertical-align: middle;\n",
              "    }\n",
              "\n",
              "    .dataframe tbody tr th {\n",
              "        vertical-align: top;\n",
              "    }\n",
              "\n",
              "    .dataframe thead th {\n",
              "        text-align: right;\n",
              "    }\n",
              "</style>\n",
              "<table border=\"1\" class=\"dataframe\">\n",
              "  <thead>\n",
              "    <tr style=\"text-align: right;\">\n",
              "      <th></th>\n",
              "      <th>Recency</th>\n",
              "      <th>Frequency</th>\n",
              "      <th>Monetary</th>\n",
              "      <th>R</th>\n",
              "      <th>F</th>\n",
              "      <th>M</th>\n",
              "      <th>RMScore</th>\n",
              "    </tr>\n",
              "    <tr>\n",
              "      <th>Customer ID</th>\n",
              "      <th></th>\n",
              "      <th></th>\n",
              "      <th></th>\n",
              "      <th></th>\n",
              "      <th></th>\n",
              "      <th></th>\n",
              "      <th></th>\n",
              "    </tr>\n",
              "  </thead>\n",
              "  <tbody>\n",
              "    <tr>\n",
              "      <th>RB-19360</th>\n",
              "      <td>96</td>\n",
              "      <td>6</td>\n",
              "      <td>15117.34</td>\n",
              "      <td>2</td>\n",
              "      <td>1</td>\n",
              "      <td>2</td>\n",
              "      <td>22</td>\n",
              "    </tr>\n",
              "    <tr>\n",
              "      <th>AB-10105</th>\n",
              "      <td>41</td>\n",
              "      <td>10</td>\n",
              "      <td>14473.57</td>\n",
              "      <td>2</td>\n",
              "      <td>2</td>\n",
              "      <td>2</td>\n",
              "      <td>22</td>\n",
              "    </tr>\n",
              "    <tr>\n",
              "      <th>KL-16645</th>\n",
              "      <td>47</td>\n",
              "      <td>12</td>\n",
              "      <td>14175.23</td>\n",
              "      <td>2</td>\n",
              "      <td>2</td>\n",
              "      <td>2</td>\n",
              "      <td>22</td>\n",
              "    </tr>\n",
              "    <tr>\n",
              "      <th>SC-20095</th>\n",
              "      <td>349</td>\n",
              "      <td>9</td>\n",
              "      <td>14142.33</td>\n",
              "      <td>1</td>\n",
              "      <td>2</td>\n",
              "      <td>2</td>\n",
              "      <td>21</td>\n",
              "    </tr>\n",
              "    <tr>\n",
              "      <th>HL-15040</th>\n",
              "      <td>43</td>\n",
              "      <td>6</td>\n",
              "      <td>12873.30</td>\n",
              "      <td>2</td>\n",
              "      <td>1</td>\n",
              "      <td>2</td>\n",
              "      <td>22</td>\n",
              "    </tr>\n",
              "  </tbody>\n",
              "</table>\n",
              "</div>"
            ],
            "text/plain": [
              "             Recency  Frequency  Monetary  R  F  M RMScore\n",
              "Customer ID                                               \n",
              "RB-19360          96          6  15117.34  2  1  2      22\n",
              "AB-10105          41         10  14473.57  2  2  2      22\n",
              "KL-16645          47         12  14175.23  2  2  2      22\n",
              "SC-20095         349          9  14142.33  1  2  2      21\n",
              "HL-15040          43          6  12873.30  2  1  2      22"
            ]
          },
          "metadata": {
            "tags": []
          },
          "execution_count": 9
        }
      ]
    },
    {
      "metadata": {
        "id": "tknmYgD7I5Su",
        "colab_type": "code",
        "colab": {
          "base_uri": "https://localhost:8080/",
          "height": 204
        },
        "outputId": "a92be54c-9e39-4d0b-c20a-8a9dc2b3a6a4"
      },
      "cell_type": "code",
      "source": [
        "df_RFM = df_RFM.reset_index()\n",
        "df_RFM.head()"
      ],
      "execution_count": 10,
      "outputs": [
        {
          "output_type": "execute_result",
          "data": {
            "text/html": [
              "<div>\n",
              "<style scoped>\n",
              "    .dataframe tbody tr th:only-of-type {\n",
              "        vertical-align: middle;\n",
              "    }\n",
              "\n",
              "    .dataframe tbody tr th {\n",
              "        vertical-align: top;\n",
              "    }\n",
              "\n",
              "    .dataframe thead th {\n",
              "        text-align: right;\n",
              "    }\n",
              "</style>\n",
              "<table border=\"1\" class=\"dataframe\">\n",
              "  <thead>\n",
              "    <tr style=\"text-align: right;\">\n",
              "      <th></th>\n",
              "      <th>Customer ID</th>\n",
              "      <th>Recency</th>\n",
              "      <th>Frequency</th>\n",
              "      <th>Monetary</th>\n",
              "      <th>R</th>\n",
              "      <th>F</th>\n",
              "      <th>M</th>\n",
              "      <th>RMScore</th>\n",
              "    </tr>\n",
              "  </thead>\n",
              "  <tbody>\n",
              "    <tr>\n",
              "      <th>0</th>\n",
              "      <td>RB-19360</td>\n",
              "      <td>96</td>\n",
              "      <td>6</td>\n",
              "      <td>15117.34</td>\n",
              "      <td>2</td>\n",
              "      <td>1</td>\n",
              "      <td>2</td>\n",
              "      <td>22</td>\n",
              "    </tr>\n",
              "    <tr>\n",
              "      <th>1</th>\n",
              "      <td>AB-10105</td>\n",
              "      <td>41</td>\n",
              "      <td>10</td>\n",
              "      <td>14473.57</td>\n",
              "      <td>2</td>\n",
              "      <td>2</td>\n",
              "      <td>2</td>\n",
              "      <td>22</td>\n",
              "    </tr>\n",
              "    <tr>\n",
              "      <th>2</th>\n",
              "      <td>KL-16645</td>\n",
              "      <td>47</td>\n",
              "      <td>12</td>\n",
              "      <td>14175.23</td>\n",
              "      <td>2</td>\n",
              "      <td>2</td>\n",
              "      <td>2</td>\n",
              "      <td>22</td>\n",
              "    </tr>\n",
              "    <tr>\n",
              "      <th>3</th>\n",
              "      <td>SC-20095</td>\n",
              "      <td>349</td>\n",
              "      <td>9</td>\n",
              "      <td>14142.33</td>\n",
              "      <td>1</td>\n",
              "      <td>2</td>\n",
              "      <td>2</td>\n",
              "      <td>21</td>\n",
              "    </tr>\n",
              "    <tr>\n",
              "      <th>4</th>\n",
              "      <td>HL-15040</td>\n",
              "      <td>43</td>\n",
              "      <td>6</td>\n",
              "      <td>12873.30</td>\n",
              "      <td>2</td>\n",
              "      <td>1</td>\n",
              "      <td>2</td>\n",
              "      <td>22</td>\n",
              "    </tr>\n",
              "  </tbody>\n",
              "</table>\n",
              "</div>"
            ],
            "text/plain": [
              "  Customer ID  Recency  Frequency  Monetary  R  F  M RMScore\n",
              "0    RB-19360       96          6  15117.34  2  1  2      22\n",
              "1    AB-10105       41         10  14473.57  2  2  2      22\n",
              "2    KL-16645       47         12  14175.23  2  2  2      22\n",
              "3    SC-20095      349          9  14142.33  1  2  2      21\n",
              "4    HL-15040       43          6  12873.30  2  1  2      22"
            ]
          },
          "metadata": {
            "tags": []
          },
          "execution_count": 10
        }
      ]
    },
    {
      "metadata": {
        "id": "9GHwSdTXI8yi",
        "colab_type": "code",
        "colab": {
          "base_uri": "https://localhost:8080/",
          "height": 204
        },
        "outputId": "32ee4137-d362-4b12-cb0c-5fe9f889fb9d"
      },
      "cell_type": "code",
      "source": [
        "df_RFM_SUM = df_RFM.groupby('RMScore').agg({'Customer ID': lambda y: len(y.unique()),\n",
        "                                        'Frequency': lambda y: round(y.mean(),0),\n",
        "                                        'Recency': lambda y: round(y.mean(),0),\n",
        "                                        'R': lambda y: round(y.mean(),0),\n",
        "                                        'M': lambda y: round(y.mean(),0),\n",
        "                                        'Monetary': lambda y: round(y.mean(),0)})\n",
        "df_RFM_SUM.head()"
      ],
      "execution_count": 12,
      "outputs": [
        {
          "output_type": "execute_result",
          "data": {
            "text/html": [
              "<div>\n",
              "<style scoped>\n",
              "    .dataframe tbody tr th:only-of-type {\n",
              "        vertical-align: middle;\n",
              "    }\n",
              "\n",
              "    .dataframe tbody tr th {\n",
              "        vertical-align: top;\n",
              "    }\n",
              "\n",
              "    .dataframe thead th {\n",
              "        text-align: right;\n",
              "    }\n",
              "</style>\n",
              "<table border=\"1\" class=\"dataframe\">\n",
              "  <thead>\n",
              "    <tr style=\"text-align: right;\">\n",
              "      <th></th>\n",
              "      <th>Customer ID</th>\n",
              "      <th>Frequency</th>\n",
              "      <th>Recency</th>\n",
              "      <th>R</th>\n",
              "      <th>M</th>\n",
              "      <th>Monetary</th>\n",
              "    </tr>\n",
              "    <tr>\n",
              "      <th>RMScore</th>\n",
              "      <th></th>\n",
              "      <th></th>\n",
              "      <th></th>\n",
              "      <th></th>\n",
              "      <th></th>\n",
              "      <th></th>\n",
              "    </tr>\n",
              "  </thead>\n",
              "  <tbody>\n",
              "    <tr>\n",
              "      <th>11</th>\n",
              "      <td>73</td>\n",
              "      <td>4</td>\n",
              "      <td>440</td>\n",
              "      <td>1</td>\n",
              "      <td>1</td>\n",
              "      <td>1526.0</td>\n",
              "    </tr>\n",
              "    <tr>\n",
              "      <th>12</th>\n",
              "      <td>254</td>\n",
              "      <td>6</td>\n",
              "      <td>70</td>\n",
              "      <td>2</td>\n",
              "      <td>1</td>\n",
              "      <td>1902.0</td>\n",
              "    </tr>\n",
              "    <tr>\n",
              "      <th>21</th>\n",
              "      <td>9</td>\n",
              "      <td>7</td>\n",
              "      <td>425</td>\n",
              "      <td>1</td>\n",
              "      <td>2</td>\n",
              "      <td>8564.0</td>\n",
              "    </tr>\n",
              "    <tr>\n",
              "      <th>22</th>\n",
              "      <td>73</td>\n",
              "      <td>8</td>\n",
              "      <td>59</td>\n",
              "      <td>2</td>\n",
              "      <td>2</td>\n",
              "      <td>6711.0</td>\n",
              "    </tr>\n",
              "  </tbody>\n",
              "</table>\n",
              "</div>"
            ],
            "text/plain": [
              "         Customer ID  Frequency  Recency  R  M  Monetary\n",
              "RMScore                                                 \n",
              "11                73          4      440  1  1    1526.0\n",
              "12               254          6       70  2  1    1902.0\n",
              "21                 9          7      425  1  2    8564.0\n",
              "22                73          8       59  2  2    6711.0"
            ]
          },
          "metadata": {
            "tags": []
          },
          "execution_count": 12
        }
      ]
    },
    {
      "metadata": {
        "id": "81-z5HFAJXpb",
        "colab_type": "code",
        "colab": {
          "base_uri": "https://localhost:8080/",
          "height": 173
        },
        "outputId": "9d825fe3-7c6d-48c0-8b3c-c2c18d2c4e05"
      },
      "cell_type": "code",
      "source": [
        "df_RFM_SUM = df_RFM_SUM.reset_index()\n",
        "df_RFM_SUM = df_RFM_SUM.sort_values('RMScore', ascending=False)\n",
        "df_RFM_SUM.head()"
      ],
      "execution_count": 18,
      "outputs": [
        {
          "output_type": "execute_result",
          "data": {
            "text/html": [
              "<div>\n",
              "<style scoped>\n",
              "    .dataframe tbody tr th:only-of-type {\n",
              "        vertical-align: middle;\n",
              "    }\n",
              "\n",
              "    .dataframe tbody tr th {\n",
              "        vertical-align: top;\n",
              "    }\n",
              "\n",
              "    .dataframe thead th {\n",
              "        text-align: right;\n",
              "    }\n",
              "</style>\n",
              "<table border=\"1\" class=\"dataframe\">\n",
              "  <thead>\n",
              "    <tr style=\"text-align: right;\">\n",
              "      <th></th>\n",
              "      <th>RMScore</th>\n",
              "      <th>Customer ID</th>\n",
              "      <th>Frequency</th>\n",
              "      <th>Recency</th>\n",
              "      <th>R</th>\n",
              "      <th>M</th>\n",
              "      <th>Monetary</th>\n",
              "    </tr>\n",
              "  </thead>\n",
              "  <tbody>\n",
              "    <tr>\n",
              "      <th>3</th>\n",
              "      <td>22</td>\n",
              "      <td>73</td>\n",
              "      <td>8</td>\n",
              "      <td>59</td>\n",
              "      <td>2</td>\n",
              "      <td>2</td>\n",
              "      <td>6711.0</td>\n",
              "    </tr>\n",
              "    <tr>\n",
              "      <th>2</th>\n",
              "      <td>21</td>\n",
              "      <td>9</td>\n",
              "      <td>7</td>\n",
              "      <td>425</td>\n",
              "      <td>1</td>\n",
              "      <td>2</td>\n",
              "      <td>8564.0</td>\n",
              "    </tr>\n",
              "    <tr>\n",
              "      <th>1</th>\n",
              "      <td>12</td>\n",
              "      <td>254</td>\n",
              "      <td>6</td>\n",
              "      <td>70</td>\n",
              "      <td>2</td>\n",
              "      <td>1</td>\n",
              "      <td>1902.0</td>\n",
              "    </tr>\n",
              "    <tr>\n",
              "      <th>0</th>\n",
              "      <td>11</td>\n",
              "      <td>73</td>\n",
              "      <td>4</td>\n",
              "      <td>440</td>\n",
              "      <td>1</td>\n",
              "      <td>1</td>\n",
              "      <td>1526.0</td>\n",
              "    </tr>\n",
              "  </tbody>\n",
              "</table>\n",
              "</div>"
            ],
            "text/plain": [
              "  RMScore  Customer ID  Frequency  Recency  R  M  Monetary\n",
              "3      22           73          8       59  2  2    6711.0\n",
              "2      21            9          7      425  1  2    8564.0\n",
              "1      12          254          6       70  2  1    1902.0\n",
              "0      11           73          4      440  1  1    1526.0"
            ]
          },
          "metadata": {
            "tags": []
          },
          "execution_count": 18
        }
      ]
    },
    {
      "metadata": {
        "id": "-rUdUjeBMvx4",
        "colab_type": "text"
      },
      "cell_type": "markdown",
      "source": [
        "**Step 4: Visualize the Value Matrix and explore some key numbers**"
      ]
    },
    {
      "metadata": {
        "id": "ENwuQkkNMwfU",
        "colab_type": "code",
        "colab": {
          "base_uri": "https://localhost:8080/",
          "height": 142
        },
        "outputId": "516f224f-7036-4fd8-a2ec-b690ac2b690f"
      },
      "cell_type": "code",
      "source": [
        "# 1) Average Monetary Matrix\n",
        "df_RFM_M = df_RFM_SUM.pivot(index='M', columns='R', values='Monetary')\n",
        "df_RFM_M= df_RFM_M.reset_index().sort_values(['M'], ascending = False).set_index(['M'])\n",
        "df_RFM_M"
      ],
      "execution_count": 22,
      "outputs": [
        {
          "output_type": "execute_result",
          "data": {
            "text/html": [
              "<div>\n",
              "<style scoped>\n",
              "    .dataframe tbody tr th:only-of-type {\n",
              "        vertical-align: middle;\n",
              "    }\n",
              "\n",
              "    .dataframe tbody tr th {\n",
              "        vertical-align: top;\n",
              "    }\n",
              "\n",
              "    .dataframe thead th {\n",
              "        text-align: right;\n",
              "    }\n",
              "</style>\n",
              "<table border=\"1\" class=\"dataframe\">\n",
              "  <thead>\n",
              "    <tr style=\"text-align: right;\">\n",
              "      <th>R</th>\n",
              "      <th>1</th>\n",
              "      <th>2</th>\n",
              "    </tr>\n",
              "    <tr>\n",
              "      <th>M</th>\n",
              "      <th></th>\n",
              "      <th></th>\n",
              "    </tr>\n",
              "  </thead>\n",
              "  <tbody>\n",
              "    <tr>\n",
              "      <th>2</th>\n",
              "      <td>8564.0</td>\n",
              "      <td>6711.0</td>\n",
              "    </tr>\n",
              "    <tr>\n",
              "      <th>1</th>\n",
              "      <td>1526.0</td>\n",
              "      <td>1902.0</td>\n",
              "    </tr>\n",
              "  </tbody>\n",
              "</table>\n",
              "</div>"
            ],
            "text/plain": [
              "R       1       2\n",
              "M                \n",
              "2  8564.0  6711.0\n",
              "1  1526.0  1902.0"
            ]
          },
          "metadata": {
            "tags": []
          },
          "execution_count": 22
        }
      ]
    },
    {
      "metadata": {
        "id": "Oiv9A5KNNb9k",
        "colab_type": "code",
        "colab": {
          "base_uri": "https://localhost:8080/",
          "height": 142
        },
        "outputId": "c5498191-e0b1-4bde-f1c0-f85c31597177"
      },
      "cell_type": "code",
      "source": [
        "# 2) Number of Customer Matrix\n",
        "df_RFM_C = df_RFM_SUM.pivot(index='M', columns='R', values='Customer ID')\n",
        "df_RFM_C= df_RFM_C.reset_index().sort_values(['M'], ascending = False).set_index(['M'])\n",
        "df_RFM_C"
      ],
      "execution_count": 23,
      "outputs": [
        {
          "output_type": "execute_result",
          "data": {
            "text/html": [
              "<div>\n",
              "<style scoped>\n",
              "    .dataframe tbody tr th:only-of-type {\n",
              "        vertical-align: middle;\n",
              "    }\n",
              "\n",
              "    .dataframe tbody tr th {\n",
              "        vertical-align: top;\n",
              "    }\n",
              "\n",
              "    .dataframe thead th {\n",
              "        text-align: right;\n",
              "    }\n",
              "</style>\n",
              "<table border=\"1\" class=\"dataframe\">\n",
              "  <thead>\n",
              "    <tr style=\"text-align: right;\">\n",
              "      <th>R</th>\n",
              "      <th>1</th>\n",
              "      <th>2</th>\n",
              "    </tr>\n",
              "    <tr>\n",
              "      <th>M</th>\n",
              "      <th></th>\n",
              "      <th></th>\n",
              "    </tr>\n",
              "  </thead>\n",
              "  <tbody>\n",
              "    <tr>\n",
              "      <th>2</th>\n",
              "      <td>9</td>\n",
              "      <td>73</td>\n",
              "    </tr>\n",
              "    <tr>\n",
              "      <th>1</th>\n",
              "      <td>73</td>\n",
              "      <td>254</td>\n",
              "    </tr>\n",
              "  </tbody>\n",
              "</table>\n",
              "</div>"
            ],
            "text/plain": [
              "R   1    2\n",
              "M         \n",
              "2   9   73\n",
              "1  73  254"
            ]
          },
          "metadata": {
            "tags": []
          },
          "execution_count": 23
        }
      ]
    },
    {
      "metadata": {
        "id": "WgDnSHuDNo3_",
        "colab_type": "code",
        "colab": {
          "base_uri": "https://localhost:8080/",
          "height": 142
        },
        "outputId": "cb7ec9c7-53e8-4936-de35-3c119f2a35dc"
      },
      "cell_type": "code",
      "source": [
        "# 3) Recency Matrix\n",
        "df_RFM_R = df_RFM_SUM.pivot(index='M', columns='R', values='Recency')\n",
        "df_RFM_R= df_RFM_C.reset_index().sort_values(['M'], ascending = False).set_index(['M'])\n",
        "df_RFM_R"
      ],
      "execution_count": 24,
      "outputs": [
        {
          "output_type": "execute_result",
          "data": {
            "text/html": [
              "<div>\n",
              "<style scoped>\n",
              "    .dataframe tbody tr th:only-of-type {\n",
              "        vertical-align: middle;\n",
              "    }\n",
              "\n",
              "    .dataframe tbody tr th {\n",
              "        vertical-align: top;\n",
              "    }\n",
              "\n",
              "    .dataframe thead th {\n",
              "        text-align: right;\n",
              "    }\n",
              "</style>\n",
              "<table border=\"1\" class=\"dataframe\">\n",
              "  <thead>\n",
              "    <tr style=\"text-align: right;\">\n",
              "      <th>R</th>\n",
              "      <th>1</th>\n",
              "      <th>2</th>\n",
              "    </tr>\n",
              "    <tr>\n",
              "      <th>M</th>\n",
              "      <th></th>\n",
              "      <th></th>\n",
              "    </tr>\n",
              "  </thead>\n",
              "  <tbody>\n",
              "    <tr>\n",
              "      <th>2</th>\n",
              "      <td>9</td>\n",
              "      <td>73</td>\n",
              "    </tr>\n",
              "    <tr>\n",
              "      <th>1</th>\n",
              "      <td>73</td>\n",
              "      <td>254</td>\n",
              "    </tr>\n",
              "  </tbody>\n",
              "</table>\n",
              "</div>"
            ],
            "text/plain": [
              "R   1    2\n",
              "M         \n",
              "2   9   73\n",
              "1  73  254"
            ]
          },
          "metadata": {
            "tags": []
          },
          "execution_count": 24
        }
      ]
    },
    {
      "metadata": {
        "id": "WKQgQhJZOW2F",
        "colab_type": "text"
      },
      "cell_type": "markdown",
      "source": [
        "![alt text](https://cdn-images-1.medium.com/max/800/1*3VPCRFGYzxHmMBepRKqouQ.png)"
      ]
    },
    {
      "metadata": {
        "id": "rE4ezE7DOLzh",
        "colab_type": "text"
      },
      "cell_type": "markdown",
      "source": [
        "![alt text](https://cdn-images-1.medium.com/max/800/1*zESqrQ1e6Tm5Uwu23PFtGA.png)"
      ]
    },
    {
      "metadata": {
        "id": "Qdo66-dTO3U7",
        "colab_type": "text"
      },
      "cell_type": "markdown",
      "source": [
        "**Some takeaways / quick wins with very simple sales & marketing tactics examples?**\n",
        "\n",
        "* There are few customers in the “Disengaged” bucket and they have an average revenue higher than the “Star” bucket. Since there are very few of them, it should be easy to partner with the business to understand what happened at the customer level. Based on the analysis, there might be a simple quick win: reactivate few of them with a phone call or meeting to hopefully move them back to the “Star” bucket (e.g. engaged customers).\n",
        "\n",
        "\n",
        "* The average last order from the “Light” bucket is very old (more than 1 year vs. 60-70 days for ‘engaged’ customers). Launching a simple reactivation campaign with a coupon might be an initiative that could lead to some new orders and help some of these customers move to the “New” bucket (e.g. engaged customers)."
      ]
    },
    {
      "metadata": {
        "id": "TQb7pVccPArj",
        "colab_type": "text"
      },
      "cell_type": "markdown",
      "source": [
        "![alt text](https://cdn-images-1.medium.com/max/800/1*wZY7pxdnVgv-34v7gRQ9jw.png)"
      ]
    }
  ]
}